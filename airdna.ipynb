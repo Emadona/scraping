{
 "cells": [
  {
   "cell_type": "markdown",
   "id": "46688e8d",
   "metadata": {},
   "source": [
    "import libraries"
   ]
  },
  {
   "cell_type": "code",
   "execution_count": 1,
   "id": "e43069f6",
   "metadata": {},
   "outputs": [],
   "source": [
    "from selenium import webdriver\n",
    "import pandas as pd"
   ]
  },
  {
   "cell_type": "markdown",
   "id": "74f21a13",
   "metadata": {},
   "source": [
    "run the chrome driver"
   ]
  },
  {
   "cell_type": "code",
   "execution_count": 2,
   "id": "b7a354be",
   "metadata": {},
   "outputs": [],
   "source": [
    "driver = webdriver.Chrome()"
   ]
  },
  {
   "cell_type": "markdown",
   "id": "cee00f69",
   "metadata": {},
   "source": [
    "go to the website"
   ]
  },
  {
   "cell_type": "code",
   "execution_count": 3,
   "id": "1baa07f6",
   "metadata": {},
   "outputs": [],
   "source": [
    "driver.get('https://ar.airbnb.com/s/Brussels--Belgium/homes?flexible_trip_lengths%5B%5D=weekend_trip&date_picker_type=calendar&query=Brussels%2C%20Belgium&place_id=ChIJZ2jHc-2kw0cRpwJzeGY6i8E&refinement_paths%5B%5D=%2Fhomes&tab_id=home_tab&source=structured_search_input_header&search_type=autocomplete_click&federated_search_session_id=b0a08972-1a3a-4bc7-ae1c-04a4ec349ea2&pagination_search=true&items_offset=20&section_offset=3')"
   ]
  },
  {
   "cell_type": "markdown",
   "id": "a04935dd",
   "metadata": {},
   "source": [
    "extract all the containers from the page"
   ]
  },
  {
   "cell_type": "code",
   "execution_count": 29,
   "id": "d008fe75",
   "metadata": {},
   "outputs": [],
   "source": [
    "contents = driver.find_elements_by_class_name('c1o3pz3i.dir.dir-ltr')"
   ]
  },
  {
   "cell_type": "code",
   "execution_count": 30,
   "id": "60bf193c",
   "metadata": {},
   "outputs": [
    {
     "data": {
      "text/plain": [
       "20"
      ]
     },
     "execution_count": 30,
     "metadata": {},
     "output_type": "execute_result"
    }
   ],
   "source": [
    "len(contents)"
   ]
  },
  {
   "cell_type": "markdown",
   "id": "ff99eca0",
   "metadata": {},
   "source": [
    "extract the informaions from the container"
   ]
  },
  {
   "cell_type": "code",
   "execution_count": 58,
   "id": "845bfa6d",
   "metadata": {},
   "outputs": [
    {
     "data": {
      "text/plain": [
       "'4.39'"
      ]
     },
     "execution_count": 58,
     "metadata": {},
     "output_type": "execute_result"
    }
   ],
   "source": [
    "rate = contents[1].find_element_by_class_name('r1g2zmv6.dir.dir-ltr').text\n",
    "rate"
   ]
  },
  {
   "cell_type": "code",
   "execution_count": 33,
   "id": "3aba7634",
   "metadata": {},
   "outputs": [
    {
     "data": {
      "text/plain": [
       "\"Luxurious Master's Bel-étage near SABLON\""
      ]
     },
     "execution_count": 33,
     "metadata": {},
     "output_type": "execute_result"
    }
   ],
   "source": [
    "title = contents[0].find_element_by_class_name('c1fwz84r.dir.dir-ltr').text\n",
    "title"
   ]
  },
  {
   "cell_type": "code",
   "execution_count": 59,
   "id": "5c43f2d1",
   "metadata": {},
   "outputs": [
    {
     "data": {
      "text/plain": [
       "'45'"
      ]
     },
     "execution_count": 59,
     "metadata": {},
     "output_type": "execute_result"
    }
   ],
   "source": [
    "rent = contents[0].find_element_by_class_name('_tyxjp1').text\n",
    "rent[1:]"
   ]
  },
  {
   "cell_type": "markdown",
   "id": "56a3995c",
   "metadata": {},
   "source": [
    "Repeat the process for all pages"
   ]
  },
  {
   "cell_type": "code",
   "execution_count": 81,
   "id": "cf7b9bd0",
   "metadata": {},
   "outputs": [],
   "source": [
    "all_data = []\n",
    "y = 0\n",
    "for i in range(14):\n",
    "    contents = driver.find_elements_by_class_name('c1o3pz3i.dir.dir-ltr')\n",
    "    for content in contents:\n",
    "        try:\n",
    "            title = content.find_element_by_class_name('c1fwz84r.dir.dir-ltr').text\n",
    "        except:\n",
    "            title = ''\n",
    "        option = content.find_elements_by_class_name('mvk3iwl.dir.dir-ltr')\n",
    "        for i in option:\n",
    "            if i.text.split(' ')[-1] == 'guests' or i.text.split(' ')[-1] == 'guest':\n",
    "                guests = i.text.split(' ')[0]\n",
    "            if i.text.split(' ')[-1] == 'bedroom' or i.text.split(' ')[-1] == 'bedrooms':\n",
    "                bedroom = i.text.split(' ')[-2]\n",
    "            if i.text.split(' ')[-1] == 'beds' or i.text.split(' ')[-1] == 'bed':\n",
    "                beds = i.text.split(' ')[-2]\n",
    "            if i.text.split(' ')[-1] == 'baths' or i.text.split(' ')[-1] == 'bath' or i.text.split(' ')[-1] == 'private bath':\n",
    "                baths = i.text.split(' ')[0]\n",
    "        try:\n",
    "            rate = content.find_element_by_class_name('r1g2zmv6.dir.dir-ltr').text\n",
    "        except:\n",
    "            rate = ''\n",
    "        rent = content.find_element_by_class_name('_tyxjp1').text[1:]\n",
    "        link = content.find_element_by_class_name('l1axmu71.dir.dir-ltr').get_attribute('href')\n",
    "        data = {\n",
    "            'title' : title,\n",
    "            'guests' : guests,\n",
    "            'bedroom' : bedroom,\n",
    "            'beds' : beds,\n",
    "            'baths' : baths,\n",
    "            'rate' : rate,\n",
    "            'rent' : rent,\n",
    "            'link' : link\n",
    "        }\n",
    "        all_data.append(data)\n",
    "    driver.find_element_by_class_name('_1bfat5l').click()\n",
    "    driver.implicitly_wait(5)"
   ]
  },
  {
   "cell_type": "markdown",
   "id": "2284b42e",
   "metadata": {},
   "source": [
    "save the data to csv file"
   ]
  },
  {
   "cell_type": "code",
   "execution_count": 86,
   "id": "1aff9ee0",
   "metadata": {},
   "outputs": [],
   "source": [
    "dt = pd.DataFrame(all_data)"
   ]
  },
  {
   "cell_type": "code",
   "execution_count": 87,
   "id": "d9436811",
   "metadata": {},
   "outputs": [],
   "source": [
    "dt.to_csv('sample_airbnb.csv')"
   ]
  },
  {
   "cell_type": "code",
   "execution_count": 55,
   "id": "2e7a244f",
   "metadata": {},
   "outputs": [],
   "source": []
  },
  {
   "cell_type": "code",
   "execution_count": 84,
   "id": "d6f7d82e",
   "metadata": {},
   "outputs": [],
   "source": []
  },
  {
   "cell_type": "code",
   "execution_count": null,
   "id": "9287d8cb",
   "metadata": {},
   "outputs": [],
   "source": []
  },
  {
   "cell_type": "code",
   "execution_count": null,
   "id": "bb0d0f0c",
   "metadata": {},
   "outputs": [],
   "source": []
  },
  {
   "cell_type": "code",
   "execution_count": null,
   "id": "ac08af39",
   "metadata": {},
   "outputs": [],
   "source": []
  },
  {
   "cell_type": "code",
   "execution_count": null,
   "id": "0df9aa8d",
   "metadata": {},
   "outputs": [],
   "source": []
  },
  {
   "cell_type": "code",
   "execution_count": null,
   "id": "501b05de",
   "metadata": {},
   "outputs": [],
   "source": []
  },
  {
   "cell_type": "code",
   "execution_count": null,
   "id": "f15ceec4",
   "metadata": {},
   "outputs": [],
   "source": []
  },
  {
   "cell_type": "code",
   "execution_count": null,
   "id": "d351441c",
   "metadata": {},
   "outputs": [],
   "source": []
  },
  {
   "cell_type": "code",
   "execution_count": null,
   "id": "53d93f6f",
   "metadata": {},
   "outputs": [],
   "source": []
  },
  {
   "cell_type": "code",
   "execution_count": null,
   "id": "8863d412",
   "metadata": {},
   "outputs": [],
   "source": []
  },
  {
   "cell_type": "code",
   "execution_count": null,
   "id": "2ba29f66",
   "metadata": {},
   "outputs": [],
   "source": []
  },
  {
   "cell_type": "code",
   "execution_count": null,
   "id": "0a9940a2",
   "metadata": {},
   "outputs": [],
   "source": []
  },
  {
   "cell_type": "code",
   "execution_count": null,
   "id": "f6d959db",
   "metadata": {},
   "outputs": [],
   "source": []
  },
  {
   "cell_type": "code",
   "execution_count": null,
   "id": "cebcff8c",
   "metadata": {},
   "outputs": [],
   "source": []
  },
  {
   "cell_type": "code",
   "execution_count": 95,
   "id": "8c7b5dba",
   "metadata": {},
   "outputs": [],
   "source": []
  },
  {
   "cell_type": "code",
   "execution_count": null,
   "id": "13191371",
   "metadata": {},
   "outputs": [],
   "source": []
  },
  {
   "cell_type": "code",
   "execution_count": null,
   "id": "22932c8a",
   "metadata": {},
   "outputs": [],
   "source": []
  }
 ],
 "metadata": {
  "kernelspec": {
   "display_name": "Python 3 (ipykernel)",
   "language": "python",
   "name": "python3"
  },
  "language_info": {
   "codemirror_mode": {
    "name": "ipython",
    "version": 3
   },
   "file_extension": ".py",
   "mimetype": "text/x-python",
   "name": "python",
   "nbconvert_exporter": "python",
   "pygments_lexer": "ipython3",
   "version": "3.9.6"
  }
 },
 "nbformat": 4,
 "nbformat_minor": 5
}
