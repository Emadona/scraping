{
 "cells": [
  {
   "cell_type": "code",
   "execution_count": 124,
   "metadata": {},
   "outputs": [],
   "source": [
    "\n",
    "from selenium import webdriver"
   ]
  },
  {
   "cell_type": "code",
   "execution_count": 125,
   "metadata": {},
   "outputs": [],
   "source": [
    "r = 'https://www.youtube.com/c/FilmGamed/videos'\n",
    "driver = webdriver.Chrome()\n",
    "driver.get(r)"
   ]
  },
  {
   "cell_type": "code",
   "execution_count": 126,
   "metadata": {},
   "outputs": [
    {
     "name": "stdout",
     "output_type": "stream",
     "text": [
      "643\n"
     ]
    }
   ],
   "source": [
    "anchers = driver.find_elements_by_id('dismissable')\n",
    "print(len(anchers))"
   ]
  },
  {
   "cell_type": "code",
   "execution_count": 127,
   "metadata": {},
   "outputs": [],
   "source": [
    "all_data =[]\n",
    "for ancher in anchers:\n",
    "    img = ancher.find_element_by_id('img').get_property('src')\n",
    "    time = ancher.find_element_by_class_name('style-scope ytd-thumbnail-overlay-time-status-renderer').text\n",
    "    title = ancher.find_element_by_id('video-title').text\n",
    "    meta = ancher.find_element_by_id(\"metadata-line\")\n",
    "    views = meta.find_elements_by_tag_name('span')[0].text\n",
    "    puplished = meta.find_elements_by_tag_name('span')[1].text\n",
    "    link = ancher.find_element_by_tag_name('a').get_property('href')\n",
    "    data = {'Title': title,\n",
    "           'Long Of Video':time,\n",
    "           'Thumbnail':img,\n",
    "           'Views':views,\n",
    "           'Time Of Puplished':puplished,\n",
    "           'Link':link}\n",
    "    all_data.append(data)"
   ]
  },
  {
   "cell_type": "code",
   "execution_count": null,
   "metadata": {},
   "outputs": [],
   "source": []
  },
  {
   "cell_type": "code",
   "execution_count": 128,
   "metadata": {},
   "outputs": [],
   "source": [
    "import pandas as pd"
   ]
  },
  {
   "cell_type": "code",
   "execution_count": 129,
   "metadata": {},
   "outputs": [],
   "source": [
    "df = pd.DataFrame(all_data)"
   ]
  },
  {
   "cell_type": "code",
   "execution_count": 130,
   "metadata": {},
   "outputs": [
    {
     "data": {
      "text/html": [
       "<div>\n",
       "<style scoped>\n",
       "    .dataframe tbody tr th:only-of-type {\n",
       "        vertical-align: middle;\n",
       "    }\n",
       "\n",
       "    .dataframe tbody tr th {\n",
       "        vertical-align: top;\n",
       "    }\n",
       "\n",
       "    .dataframe thead th {\n",
       "        text-align: right;\n",
       "    }\n",
       "</style>\n",
       "<table border=\"1\" class=\"dataframe\">\n",
       "  <thead>\n",
       "    <tr style=\"text-align: right;\">\n",
       "      <th></th>\n",
       "      <th>Title</th>\n",
       "      <th>Long Of Video</th>\n",
       "      <th>Thumbnail</th>\n",
       "      <th>Views</th>\n",
       "      <th>Time Of Puplished</th>\n",
       "      <th>Link</th>\n",
       "    </tr>\n",
       "  </thead>\n",
       "  <tbody>\n",
       "    <tr>\n",
       "      <th>0</th>\n",
       "      <td>مراجعة الموسم الأول من مسلسل Away بدون حرق | F...</td>\n",
       "      <td>9:08</td>\n",
       "      <td>https://i.ytimg.com/vi/WZXYCRtnZC8/hqdefault.j...</td>\n",
       "      <td>31 ألف مشاهدة</td>\n",
       "      <td>قبل 5 أيام</td>\n",
       "      <td>https://www.youtube.com/watch?v=WZXYCRtnZC8</td>\n",
       "    </tr>\n",
       "    <tr>\n",
       "      <th>1</th>\n",
       "      <td>مراجعة فيلم \"Tenet\" بالعربي وبدون حرق | FilmGamed</td>\n",
       "      <td>11:12</td>\n",
       "      <td>https://i.ytimg.com/vi/jazJ4GdX7FY/hqdefault.j...</td>\n",
       "      <td>115 ألف مشاهدة</td>\n",
       "      <td>قبل أسبوعين</td>\n",
       "      <td>https://www.youtube.com/watch?v=jazJ4GdX7FY</td>\n",
       "    </tr>\n",
       "    <tr>\n",
       "      <th>2</th>\n",
       "      <td>خمس ترشيحات من محمد طارق للمشاهدة المنزلية في ...</td>\n",
       "      <td>30:55</td>\n",
       "      <td>https://i.ytimg.com/vi/KIJJQTaLbnM/hqdefault.j...</td>\n",
       "      <td>37 ألف مشاهدة</td>\n",
       "      <td>قبل أسبوعين</td>\n",
       "      <td>https://www.youtube.com/watch?v=KIJJQTaLbnM</td>\n",
       "    </tr>\n",
       "    <tr>\n",
       "      <th>3</th>\n",
       "      <td>رياكشن للتيزر الأولى لفيلم The Batman من فيلم ...</td>\n",
       "      <td>14:17</td>\n",
       "      <td>https://i.ytimg.com/vi/mBW5uiz4QY8/hqdefault.j...</td>\n",
       "      <td>130 ألف مشاهدة</td>\n",
       "      <td>قبل أسبوعين</td>\n",
       "      <td>https://www.youtube.com/watch?v=mBW5uiz4QY8</td>\n",
       "    </tr>\n",
       "    <tr>\n",
       "      <th>4</th>\n",
       "      <td>مراجعة فيلم \"Project Power\" بدون حرق + لقاءات ...</td>\n",
       "      <td>14:49</td>\n",
       "      <td>https://i.ytimg.com/vi/mNgFF78pfbg/hqdefault.j...</td>\n",
       "      <td>71 ألف مشاهدة</td>\n",
       "      <td>قبل 3 أسابيع</td>\n",
       "      <td>https://www.youtube.com/watch?v=mNgFF78pfbg</td>\n",
       "    </tr>\n",
       "    <tr>\n",
       "      <th>...</th>\n",
       "      <td>...</td>\n",
       "      <td>...</td>\n",
       "      <td>...</td>\n",
       "      <td>...</td>\n",
       "      <td>...</td>\n",
       "      <td>...</td>\n",
       "    </tr>\n",
       "    <tr>\n",
       "      <th>638</th>\n",
       "      <td>فيلم صنع فى مصر احمد حلمى | عمرو سلامة | آراء ...</td>\n",
       "      <td>7:57</td>\n",
       "      <td>https://i.ytimg.com/vi/o_Z98geYC7U/hqdefault.j...</td>\n",
       "      <td>128 ألف مشاهدة</td>\n",
       "      <td>قبل 6 سنوات</td>\n",
       "      <td>https://www.youtube.com/watch?v=o_Z98geYC7U</td>\n",
       "    </tr>\n",
       "    <tr>\n",
       "      <th>639</th>\n",
       "      <td>Godzilla 2014 Movie Review 2014 in Arabic - من...</td>\n",
       "      <td>7:18</td>\n",
       "      <td>https://i.ytimg.com/vi/7UDu8EipSWc/hqdefault.j...</td>\n",
       "      <td>22 ألف مشاهدة</td>\n",
       "      <td>قبل 6 سنوات</td>\n",
       "      <td>https://www.youtube.com/watch?v=7UDu8EipSWc</td>\n",
       "    </tr>\n",
       "    <tr>\n",
       "      <th>640</th>\n",
       "      <td>تهبيط الهبوط بالهبوط - الحلقة الثالثة - ٨٪</td>\n",
       "      <td>4:27</td>\n",
       "      <td>https://i.ytimg.com/vi/hHVyQlbiG60/hqdefault.j...</td>\n",
       "      <td>45 ألف مشاهدة</td>\n",
       "      <td>قبل 6 سنوات</td>\n",
       "      <td>https://www.youtube.com/watch?v=hHVyQlbiG60</td>\n",
       "    </tr>\n",
       "    <tr>\n",
       "      <th>641</th>\n",
       "      <td>تهبيط الهبوط بالهبوط - الحلقة الثانية - هاتولي...</td>\n",
       "      <td>6:24</td>\n",
       "      <td>https://i.ytimg.com/vi/so2LbFYx0z8/hqdefault.j...</td>\n",
       "      <td>65 ألف مشاهدة</td>\n",
       "      <td>قبل 6 سنوات</td>\n",
       "      <td>https://www.youtube.com/watch?v=so2LbFYx0z8</td>\n",
       "    </tr>\n",
       "    <tr>\n",
       "      <th>642</th>\n",
       "      <td>تهبيط الهبوط بالهبوط - الحلقة الأولى - القشاش</td>\n",
       "      <td>8:17</td>\n",
       "      <td>https://i.ytimg.com/vi/ZO8dK1-Xd4g/hqdefault.j...</td>\n",
       "      <td>58 ألف مشاهدة</td>\n",
       "      <td>قبل 6 سنوات</td>\n",
       "      <td>https://www.youtube.com/watch?v=ZO8dK1-Xd4g</td>\n",
       "    </tr>\n",
       "  </tbody>\n",
       "</table>\n",
       "<p>643 rows × 6 columns</p>\n",
       "</div>"
      ],
      "text/plain": [
       "                                                 Title Long Of Video  \\\n",
       "0    مراجعة الموسم الأول من مسلسل Away بدون حرق | F...          9:08   \n",
       "1    مراجعة فيلم \"Tenet\" بالعربي وبدون حرق | FilmGamed         11:12   \n",
       "2    خمس ترشيحات من محمد طارق للمشاهدة المنزلية في ...         30:55   \n",
       "3    رياكشن للتيزر الأولى لفيلم The Batman من فيلم ...         14:17   \n",
       "4    مراجعة فيلم \"Project Power\" بدون حرق + لقاءات ...         14:49   \n",
       "..                                                 ...           ...   \n",
       "638  فيلم صنع فى مصر احمد حلمى | عمرو سلامة | آراء ...          7:57   \n",
       "639  Godzilla 2014 Movie Review 2014 in Arabic - من...          7:18   \n",
       "640         تهبيط الهبوط بالهبوط - الحلقة الثالثة - ٨٪          4:27   \n",
       "641  تهبيط الهبوط بالهبوط - الحلقة الثانية - هاتولي...          6:24   \n",
       "642      تهبيط الهبوط بالهبوط - الحلقة الأولى - القشاش          8:17   \n",
       "\n",
       "                                             Thumbnail           Views  \\\n",
       "0    https://i.ytimg.com/vi/WZXYCRtnZC8/hqdefault.j...   31 ألف مشاهدة   \n",
       "1    https://i.ytimg.com/vi/jazJ4GdX7FY/hqdefault.j...  115 ألف مشاهدة   \n",
       "2    https://i.ytimg.com/vi/KIJJQTaLbnM/hqdefault.j...   37 ألف مشاهدة   \n",
       "3    https://i.ytimg.com/vi/mBW5uiz4QY8/hqdefault.j...  130 ألف مشاهدة   \n",
       "4    https://i.ytimg.com/vi/mNgFF78pfbg/hqdefault.j...   71 ألف مشاهدة   \n",
       "..                                                 ...             ...   \n",
       "638  https://i.ytimg.com/vi/o_Z98geYC7U/hqdefault.j...  128 ألف مشاهدة   \n",
       "639  https://i.ytimg.com/vi/7UDu8EipSWc/hqdefault.j...   22 ألف مشاهدة   \n",
       "640  https://i.ytimg.com/vi/hHVyQlbiG60/hqdefault.j...   45 ألف مشاهدة   \n",
       "641  https://i.ytimg.com/vi/so2LbFYx0z8/hqdefault.j...   65 ألف مشاهدة   \n",
       "642  https://i.ytimg.com/vi/ZO8dK1-Xd4g/hqdefault.j...   58 ألف مشاهدة   \n",
       "\n",
       "    Time Of Puplished                                         Link  \n",
       "0          قبل 5 أيام  https://www.youtube.com/watch?v=WZXYCRtnZC8  \n",
       "1         قبل أسبوعين  https://www.youtube.com/watch?v=jazJ4GdX7FY  \n",
       "2         قبل أسبوعين  https://www.youtube.com/watch?v=KIJJQTaLbnM  \n",
       "3         قبل أسبوعين  https://www.youtube.com/watch?v=mBW5uiz4QY8  \n",
       "4        قبل 3 أسابيع  https://www.youtube.com/watch?v=mNgFF78pfbg  \n",
       "..                ...                                          ...  \n",
       "638       قبل 6 سنوات  https://www.youtube.com/watch?v=o_Z98geYC7U  \n",
       "639       قبل 6 سنوات  https://www.youtube.com/watch?v=7UDu8EipSWc  \n",
       "640       قبل 6 سنوات  https://www.youtube.com/watch?v=hHVyQlbiG60  \n",
       "641       قبل 6 سنوات  https://www.youtube.com/watch?v=so2LbFYx0z8  \n",
       "642       قبل 6 سنوات  https://www.youtube.com/watch?v=ZO8dK1-Xd4g  \n",
       "\n",
       "[643 rows x 6 columns]"
      ]
     },
     "execution_count": 130,
     "metadata": {},
     "output_type": "execute_result"
    }
   ],
   "source": [
    "df"
   ]
  },
  {
   "cell_type": "code",
   "execution_count": 131,
   "metadata": {},
   "outputs": [],
   "source": [
    "df.to_csv('mmhady.csv')"
   ]
  },
  {
   "cell_type": "code",
   "execution_count": 136,
   "metadata": {},
   "outputs": [],
   "source": [
    "import matplotlib.pyplot as plt"
   ]
  },
  {
   "cell_type": "code",
   "execution_count": 140,
   "metadata": {},
   "outputs": [
    {
     "ename": "ValueError",
     "evalue": "could not convert string to float: 'قبل 5 أيام'",
     "output_type": "error",
     "traceback": [
      "\u001b[1;31m---------------------------------------------------------------------------\u001b[0m",
      "\u001b[1;31mValueError\u001b[0m                                Traceback (most recent call last)",
      "\u001b[1;32m<ipython-input-140-68cf0054e80a>\u001b[0m in \u001b[0;36m<module>\u001b[1;34m\u001b[0m\n\u001b[1;32m----> 1\u001b[1;33m \u001b[0mplt\u001b[0m\u001b[1;33m.\u001b[0m\u001b[0mpie\u001b[0m\u001b[1;33m(\u001b[0m\u001b[0mdf\u001b[0m\u001b[1;33m[\u001b[0m\u001b[1;34m'Time Of Puplished'\u001b[0m\u001b[1;33m]\u001b[0m\u001b[1;33m)\u001b[0m\u001b[1;33m\u001b[0m\u001b[1;33m\u001b[0m\u001b[0m\n\u001b[0m",
      "\u001b[1;32mC:\\ProgramData\\Anaconda3\\lib\\site-packages\\matplotlib\\pyplot.py\u001b[0m in \u001b[0;36mpie\u001b[1;34m(x, explode, labels, colors, autopct, pctdistance, shadow, labeldistance, startangle, radius, counterclock, wedgeprops, textprops, center, frame, rotatelabels, data)\u001b[0m\n\u001b[0;32m   2746\u001b[0m         \u001b[0mwedgeprops\u001b[0m\u001b[1;33m=\u001b[0m\u001b[1;32mNone\u001b[0m\u001b[1;33m,\u001b[0m \u001b[0mtextprops\u001b[0m\u001b[1;33m=\u001b[0m\u001b[1;32mNone\u001b[0m\u001b[1;33m,\u001b[0m \u001b[0mcenter\u001b[0m\u001b[1;33m=\u001b[0m\u001b[1;33m(\u001b[0m\u001b[1;36m0\u001b[0m\u001b[1;33m,\u001b[0m \u001b[1;36m0\u001b[0m\u001b[1;33m)\u001b[0m\u001b[1;33m,\u001b[0m \u001b[0mframe\u001b[0m\u001b[1;33m=\u001b[0m\u001b[1;32mFalse\u001b[0m\u001b[1;33m,\u001b[0m\u001b[1;33m\u001b[0m\u001b[1;33m\u001b[0m\u001b[0m\n\u001b[0;32m   2747\u001b[0m         rotatelabels=False, *, data=None):\n\u001b[1;32m-> 2748\u001b[1;33m     return gca().pie(\n\u001b[0m\u001b[0;32m   2749\u001b[0m         \u001b[0mx\u001b[0m\u001b[1;33m,\u001b[0m \u001b[0mexplode\u001b[0m\u001b[1;33m=\u001b[0m\u001b[0mexplode\u001b[0m\u001b[1;33m,\u001b[0m \u001b[0mlabels\u001b[0m\u001b[1;33m=\u001b[0m\u001b[0mlabels\u001b[0m\u001b[1;33m,\u001b[0m \u001b[0mcolors\u001b[0m\u001b[1;33m=\u001b[0m\u001b[0mcolors\u001b[0m\u001b[1;33m,\u001b[0m\u001b[1;33m\u001b[0m\u001b[1;33m\u001b[0m\u001b[0m\n\u001b[0;32m   2750\u001b[0m         \u001b[0mautopct\u001b[0m\u001b[1;33m=\u001b[0m\u001b[0mautopct\u001b[0m\u001b[1;33m,\u001b[0m \u001b[0mpctdistance\u001b[0m\u001b[1;33m=\u001b[0m\u001b[0mpctdistance\u001b[0m\u001b[1;33m,\u001b[0m \u001b[0mshadow\u001b[0m\u001b[1;33m=\u001b[0m\u001b[0mshadow\u001b[0m\u001b[1;33m,\u001b[0m\u001b[1;33m\u001b[0m\u001b[1;33m\u001b[0m\u001b[0m\n",
      "\u001b[1;32mC:\\ProgramData\\Anaconda3\\lib\\site-packages\\matplotlib\\__init__.py\u001b[0m in \u001b[0;36minner\u001b[1;34m(ax, data, *args, **kwargs)\u001b[0m\n\u001b[0;32m   1563\u001b[0m     \u001b[1;32mdef\u001b[0m \u001b[0minner\u001b[0m\u001b[1;33m(\u001b[0m\u001b[0max\u001b[0m\u001b[1;33m,\u001b[0m \u001b[1;33m*\u001b[0m\u001b[0margs\u001b[0m\u001b[1;33m,\u001b[0m \u001b[0mdata\u001b[0m\u001b[1;33m=\u001b[0m\u001b[1;32mNone\u001b[0m\u001b[1;33m,\u001b[0m \u001b[1;33m**\u001b[0m\u001b[0mkwargs\u001b[0m\u001b[1;33m)\u001b[0m\u001b[1;33m:\u001b[0m\u001b[1;33m\u001b[0m\u001b[1;33m\u001b[0m\u001b[0m\n\u001b[0;32m   1564\u001b[0m         \u001b[1;32mif\u001b[0m \u001b[0mdata\u001b[0m \u001b[1;32mis\u001b[0m \u001b[1;32mNone\u001b[0m\u001b[1;33m:\u001b[0m\u001b[1;33m\u001b[0m\u001b[1;33m\u001b[0m\u001b[0m\n\u001b[1;32m-> 1565\u001b[1;33m             \u001b[1;32mreturn\u001b[0m \u001b[0mfunc\u001b[0m\u001b[1;33m(\u001b[0m\u001b[0max\u001b[0m\u001b[1;33m,\u001b[0m \u001b[1;33m*\u001b[0m\u001b[0mmap\u001b[0m\u001b[1;33m(\u001b[0m\u001b[0msanitize_sequence\u001b[0m\u001b[1;33m,\u001b[0m \u001b[0margs\u001b[0m\u001b[1;33m)\u001b[0m\u001b[1;33m,\u001b[0m \u001b[1;33m**\u001b[0m\u001b[0mkwargs\u001b[0m\u001b[1;33m)\u001b[0m\u001b[1;33m\u001b[0m\u001b[1;33m\u001b[0m\u001b[0m\n\u001b[0m\u001b[0;32m   1566\u001b[0m \u001b[1;33m\u001b[0m\u001b[0m\n\u001b[0;32m   1567\u001b[0m         \u001b[0mbound\u001b[0m \u001b[1;33m=\u001b[0m \u001b[0mnew_sig\u001b[0m\u001b[1;33m.\u001b[0m\u001b[0mbind\u001b[0m\u001b[1;33m(\u001b[0m\u001b[0max\u001b[0m\u001b[1;33m,\u001b[0m \u001b[1;33m*\u001b[0m\u001b[0margs\u001b[0m\u001b[1;33m,\u001b[0m \u001b[1;33m**\u001b[0m\u001b[0mkwargs\u001b[0m\u001b[1;33m)\u001b[0m\u001b[1;33m\u001b[0m\u001b[1;33m\u001b[0m\u001b[0m\n",
      "\u001b[1;32mC:\\ProgramData\\Anaconda3\\lib\\site-packages\\matplotlib\\axes\\_axes.py\u001b[0m in \u001b[0;36mpie\u001b[1;34m(self, x, explode, labels, colors, autopct, pctdistance, shadow, labeldistance, startangle, radius, counterclock, wedgeprops, textprops, center, frame, rotatelabels)\u001b[0m\n\u001b[0;32m   2910\u001b[0m         \u001b[1;31m# The use of float32 is \"historical\", but can't be changed without\u001b[0m\u001b[1;33m\u001b[0m\u001b[1;33m\u001b[0m\u001b[1;33m\u001b[0m\u001b[0m\n\u001b[0;32m   2911\u001b[0m         \u001b[1;31m# regenerating the test baselines.\u001b[0m\u001b[1;33m\u001b[0m\u001b[1;33m\u001b[0m\u001b[1;33m\u001b[0m\u001b[0m\n\u001b[1;32m-> 2912\u001b[1;33m         \u001b[0mx\u001b[0m \u001b[1;33m=\u001b[0m \u001b[0mnp\u001b[0m\u001b[1;33m.\u001b[0m\u001b[0masarray\u001b[0m\u001b[1;33m(\u001b[0m\u001b[0mx\u001b[0m\u001b[1;33m,\u001b[0m \u001b[0mnp\u001b[0m\u001b[1;33m.\u001b[0m\u001b[0mfloat32\u001b[0m\u001b[1;33m)\u001b[0m\u001b[1;33m\u001b[0m\u001b[1;33m\u001b[0m\u001b[0m\n\u001b[0m\u001b[0;32m   2913\u001b[0m         \u001b[1;32mif\u001b[0m \u001b[0mx\u001b[0m\u001b[1;33m.\u001b[0m\u001b[0mndim\u001b[0m \u001b[1;33m!=\u001b[0m \u001b[1;36m1\u001b[0m \u001b[1;32mand\u001b[0m \u001b[0mx\u001b[0m\u001b[1;33m.\u001b[0m\u001b[0msqueeze\u001b[0m\u001b[1;33m(\u001b[0m\u001b[1;33m)\u001b[0m\u001b[1;33m.\u001b[0m\u001b[0mndim\u001b[0m \u001b[1;33m<=\u001b[0m \u001b[1;36m1\u001b[0m\u001b[1;33m:\u001b[0m\u001b[1;33m\u001b[0m\u001b[1;33m\u001b[0m\u001b[0m\n\u001b[0;32m   2914\u001b[0m             cbook.warn_deprecated(\n",
      "\u001b[1;32mC:\\ProgramData\\Anaconda3\\lib\\site-packages\\numpy\\core\\_asarray.py\u001b[0m in \u001b[0;36masarray\u001b[1;34m(a, dtype, order)\u001b[0m\n\u001b[0;32m     83\u001b[0m \u001b[1;33m\u001b[0m\u001b[0m\n\u001b[0;32m     84\u001b[0m     \"\"\"\n\u001b[1;32m---> 85\u001b[1;33m     \u001b[1;32mreturn\u001b[0m \u001b[0marray\u001b[0m\u001b[1;33m(\u001b[0m\u001b[0ma\u001b[0m\u001b[1;33m,\u001b[0m \u001b[0mdtype\u001b[0m\u001b[1;33m,\u001b[0m \u001b[0mcopy\u001b[0m\u001b[1;33m=\u001b[0m\u001b[1;32mFalse\u001b[0m\u001b[1;33m,\u001b[0m \u001b[0morder\u001b[0m\u001b[1;33m=\u001b[0m\u001b[0morder\u001b[0m\u001b[1;33m)\u001b[0m\u001b[1;33m\u001b[0m\u001b[1;33m\u001b[0m\u001b[0m\n\u001b[0m\u001b[0;32m     86\u001b[0m \u001b[1;33m\u001b[0m\u001b[0m\n\u001b[0;32m     87\u001b[0m \u001b[1;33m\u001b[0m\u001b[0m\n",
      "\u001b[1;32mC:\\ProgramData\\Anaconda3\\lib\\site-packages\\pandas\\core\\series.py\u001b[0m in \u001b[0;36m__array__\u001b[1;34m(self, dtype)\u001b[0m\n\u001b[0;32m    752\u001b[0m               dtype='datetime64[ns]')\n\u001b[0;32m    753\u001b[0m         \"\"\"\n\u001b[1;32m--> 754\u001b[1;33m         \u001b[1;32mreturn\u001b[0m \u001b[0mnp\u001b[0m\u001b[1;33m.\u001b[0m\u001b[0masarray\u001b[0m\u001b[1;33m(\u001b[0m\u001b[0mself\u001b[0m\u001b[1;33m.\u001b[0m\u001b[0marray\u001b[0m\u001b[1;33m,\u001b[0m \u001b[0mdtype\u001b[0m\u001b[1;33m)\u001b[0m\u001b[1;33m\u001b[0m\u001b[1;33m\u001b[0m\u001b[0m\n\u001b[0m\u001b[0;32m    755\u001b[0m \u001b[1;33m\u001b[0m\u001b[0m\n\u001b[0;32m    756\u001b[0m     \u001b[1;31m# ----------------------------------------------------------------------\u001b[0m\u001b[1;33m\u001b[0m\u001b[1;33m\u001b[0m\u001b[1;33m\u001b[0m\u001b[0m\n",
      "\u001b[1;32mC:\\ProgramData\\Anaconda3\\lib\\site-packages\\numpy\\core\\_asarray.py\u001b[0m in \u001b[0;36masarray\u001b[1;34m(a, dtype, order)\u001b[0m\n\u001b[0;32m     83\u001b[0m \u001b[1;33m\u001b[0m\u001b[0m\n\u001b[0;32m     84\u001b[0m     \"\"\"\n\u001b[1;32m---> 85\u001b[1;33m     \u001b[1;32mreturn\u001b[0m \u001b[0marray\u001b[0m\u001b[1;33m(\u001b[0m\u001b[0ma\u001b[0m\u001b[1;33m,\u001b[0m \u001b[0mdtype\u001b[0m\u001b[1;33m,\u001b[0m \u001b[0mcopy\u001b[0m\u001b[1;33m=\u001b[0m\u001b[1;32mFalse\u001b[0m\u001b[1;33m,\u001b[0m \u001b[0morder\u001b[0m\u001b[1;33m=\u001b[0m\u001b[0morder\u001b[0m\u001b[1;33m)\u001b[0m\u001b[1;33m\u001b[0m\u001b[1;33m\u001b[0m\u001b[0m\n\u001b[0m\u001b[0;32m     86\u001b[0m \u001b[1;33m\u001b[0m\u001b[0m\n\u001b[0;32m     87\u001b[0m \u001b[1;33m\u001b[0m\u001b[0m\n",
      "\u001b[1;32mC:\\ProgramData\\Anaconda3\\lib\\site-packages\\pandas\\core\\arrays\\numpy_.py\u001b[0m in \u001b[0;36m__array__\u001b[1;34m(self, dtype)\u001b[0m\n\u001b[0;32m    182\u001b[0m \u001b[1;33m\u001b[0m\u001b[0m\n\u001b[0;32m    183\u001b[0m     \u001b[1;32mdef\u001b[0m \u001b[0m__array__\u001b[0m\u001b[1;33m(\u001b[0m\u001b[0mself\u001b[0m\u001b[1;33m,\u001b[0m \u001b[0mdtype\u001b[0m\u001b[1;33m=\u001b[0m\u001b[1;32mNone\u001b[0m\u001b[1;33m)\u001b[0m \u001b[1;33m->\u001b[0m \u001b[0mnp\u001b[0m\u001b[1;33m.\u001b[0m\u001b[0mndarray\u001b[0m\u001b[1;33m:\u001b[0m\u001b[1;33m\u001b[0m\u001b[1;33m\u001b[0m\u001b[0m\n\u001b[1;32m--> 184\u001b[1;33m         \u001b[1;32mreturn\u001b[0m \u001b[0mnp\u001b[0m\u001b[1;33m.\u001b[0m\u001b[0masarray\u001b[0m\u001b[1;33m(\u001b[0m\u001b[0mself\u001b[0m\u001b[1;33m.\u001b[0m\u001b[0m_ndarray\u001b[0m\u001b[1;33m,\u001b[0m \u001b[0mdtype\u001b[0m\u001b[1;33m=\u001b[0m\u001b[0mdtype\u001b[0m\u001b[1;33m)\u001b[0m\u001b[1;33m\u001b[0m\u001b[1;33m\u001b[0m\u001b[0m\n\u001b[0m\u001b[0;32m    185\u001b[0m \u001b[1;33m\u001b[0m\u001b[0m\n\u001b[0;32m    186\u001b[0m     \u001b[0m_HANDLED_TYPES\u001b[0m \u001b[1;33m=\u001b[0m \u001b[1;33m(\u001b[0m\u001b[0mnp\u001b[0m\u001b[1;33m.\u001b[0m\u001b[0mndarray\u001b[0m\u001b[1;33m,\u001b[0m \u001b[0mnumbers\u001b[0m\u001b[1;33m.\u001b[0m\u001b[0mNumber\u001b[0m\u001b[1;33m)\u001b[0m\u001b[1;33m\u001b[0m\u001b[1;33m\u001b[0m\u001b[0m\n",
      "\u001b[1;32mC:\\ProgramData\\Anaconda3\\lib\\site-packages\\numpy\\core\\_asarray.py\u001b[0m in \u001b[0;36masarray\u001b[1;34m(a, dtype, order)\u001b[0m\n\u001b[0;32m     83\u001b[0m \u001b[1;33m\u001b[0m\u001b[0m\n\u001b[0;32m     84\u001b[0m     \"\"\"\n\u001b[1;32m---> 85\u001b[1;33m     \u001b[1;32mreturn\u001b[0m \u001b[0marray\u001b[0m\u001b[1;33m(\u001b[0m\u001b[0ma\u001b[0m\u001b[1;33m,\u001b[0m \u001b[0mdtype\u001b[0m\u001b[1;33m,\u001b[0m \u001b[0mcopy\u001b[0m\u001b[1;33m=\u001b[0m\u001b[1;32mFalse\u001b[0m\u001b[1;33m,\u001b[0m \u001b[0morder\u001b[0m\u001b[1;33m=\u001b[0m\u001b[0morder\u001b[0m\u001b[1;33m)\u001b[0m\u001b[1;33m\u001b[0m\u001b[1;33m\u001b[0m\u001b[0m\n\u001b[0m\u001b[0;32m     86\u001b[0m \u001b[1;33m\u001b[0m\u001b[0m\n\u001b[0;32m     87\u001b[0m \u001b[1;33m\u001b[0m\u001b[0m\n",
      "\u001b[1;31mValueError\u001b[0m: could not convert string to float: 'قبل 5 أيام'"
     ]
    },
    {
     "data": {
      "image/png": "[encoded data removed]",
      "text/plain": [
       "<Figure size 432x288 with 1 Axes>"
      ]
     },
     "metadata": {
      "needs_background": "light"
     },
     "output_type": "display_data"
    }
   ],
   "source": [
    "plt.pie(df['Time Of Puplished'])"
   ]
  },
  {
   "cell_type": "code",
   "execution_count": null,
   "metadata": {},
   "outputs": [],
   "source": []
  }
 ],
 "metadata": {
  "kernelspec": {
   "display_name": "Python 3",
   "language": "python",
   "name": "python3"
  },
  "language_info": {
   "codemirror_mode": {
    "name": "ipython",
    "version": 3
   },
   "file_extension": ".py",
   "mimetype": "text/x-python",
   "name": "python",
   "nbconvert_exporter": "python",
   "pygments_lexer": "ipython3",
   "version": "3.8.3"
  }
 },
 "nbformat": 4,
 "nbformat_minor": 4
}
