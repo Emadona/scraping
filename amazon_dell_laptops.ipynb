{
 "cells": [
  {
   "cell_type": "code",
   "execution_count": 9,
   "metadata": {},
   "outputs": [
    {
     "name": "stderr",
     "output_type": "stream",
     "text": [
      "100%|████████████████████████████████████████████████████████████████████████████████| 401/401 [18:52<00:00,  2.82s/it]\n"
     ]
    }
   ],
   "source": [
    "from selenium import webdriver\n",
    "from tqdm import tqdm\n",
    "import time\n",
    "import pandas as pd\n",
    "\n",
    "driver = webdriver.Chrome()\n",
    "driver.implicitly_wait(5)\n",
    "driver.maximize_window()\n",
    "r = 'https://www.amazon.com/s?k=dell+laptop&rh=p_89%3ADell&dc&crid=J4C3YWT4R8AT&qid=1599061946&rnid=2528832011&sprefix=dell%2Caps%2C398&ref=sr_nr_p_89_'\n",
    "anchers = []\n",
    "urls=[]\n",
    "for page in range(1,21):\n",
    "    driver.get(r+str(page))\n",
    "    for i in range(2,23):\n",
    "        try:\n",
    "\n",
    "            ancher = driver.find_element_by_xpath('//*[@id=\"search\"]/div[1]/div[2]/div/span[3]/div[2]/div[{}]'.format(str(i)))\n",
    "            anchers.append(ancher)\n",
    "            h2 =ancher.find_element_by_tag_name('h2')\n",
    "            link = h2.find_element_by_tag_name('a')\n",
    "            url = link.get_property('href')\n",
    "            urls.append(url)\n",
    "        except:continue\n",
    "\n",
    "alldata = []\n",
    "driver = webdriver.Chrome()\n",
    "for i in tqdm(urls):\n",
    "    if len(i) < 5:\n",
    "        continue\n",
    "    else:\n",
    "        driver.get(i)\n",
    "        try:\n",
    "            name = driver.find_element_by_xpath('//*[@id=\"productTitle\"]').text\n",
    "            price = driver.find_element_by_xpath('//*[@id=\"priceblock_ourprice\"]')\n",
    "            pics = driver.find_element_by_id('imgTagWrapperId')\n",
    "            crs = pics.find_element_by_tag_name('img')\n",
    "            img = crs.get_property('src')\n",
    "            data = {'name':name,\n",
    "                    'price':price.text,\n",
    "                    'img':img,\n",
    "                    'link':i}\n",
    "            alldata.append(data)\n",
    "        except:continue\n",
    "time.sleep(10)\n",
    "driver.quit()\n",
    "df = pd.DataFrame(alldata)\n",
    "df.to_csv('amazon_dell_laptops.csv')"
   ]
  },
  {
   "cell_type": "markdown",
   "metadata": {},
   "source": [
    "df = pd.DataFrame(alldata)\n",
    "df.to_csv('amazon_dell_laptops.csv')\n"
   ]
  },
  {
   "cell_type": "code",
   "execution_count": 5,
   "metadata": {},
   "outputs": [
    {
     "data": {
      "text/plain": [
       "'https://images-na.ssl-images-amazon.com/images/I/51B4zvRbRBL._AC_SX425_.jpg'"
      ]
     },
     "execution_count": 5,
     "metadata": {},
     "output_type": "execute_result"
    }
   ],
   "source": [
    "df.img[0]"
   ]
  },
  {
   "cell_type": "code",
   "execution_count": 1,
   "metadata": {},
   "outputs": [],
   "source": [
    "import pandas as pd"
   ]
  },
  {
   "cell_type": "code",
   "execution_count": 2,
   "metadata": {},
   "outputs": [],
   "source": [
    "df = pd.read_csv('amazon_dell_laptops.csv')"
   ]
  },
  {
   "cell_type": "code",
   "execution_count": 3,
   "metadata": {},
   "outputs": [
    {
     "data": {
      "text/html": [
       "<div>\n",
       "<style scoped>\n",
       "    .dataframe tbody tr th:only-of-type {\n",
       "        vertical-align: middle;\n",
       "    }\n",
       "\n",
       "    .dataframe tbody tr th {\n",
       "        vertical-align: top;\n",
       "    }\n",
       "\n",
       "    .dataframe thead th {\n",
       "        text-align: right;\n",
       "    }\n",
       "</style>\n",
       "<table border=\"1\" class=\"dataframe\">\n",
       "  <thead>\n",
       "    <tr style=\"text-align: right;\">\n",
       "      <th></th>\n",
       "      <th>Unnamed: 0</th>\n",
       "      <th>name</th>\n",
       "      <th>price</th>\n",
       "      <th>img</th>\n",
       "      <th>link</th>\n",
       "    </tr>\n",
       "  </thead>\n",
       "  <tbody>\n",
       "    <tr>\n",
       "      <th>0</th>\n",
       "      <td>0</td>\n",
       "      <td>Dell 2019 Inspiron 13 7000 2-in-1 13.3in Fhd T...</td>\n",
       "      <td>$599.11</td>\n",
       "      <td>data:image/webp;base64,UklGRrQuAABXRUJQVlA4IKg...</td>\n",
       "      <td>https://www.amazon.com/gp/slredirect/picassoRe...</td>\n",
       "    </tr>\n",
       "    <tr>\n",
       "      <th>1</th>\n",
       "      <td>1</td>\n",
       "      <td>Dell XPS 13 7390 Laptop 13.3 inch, 4K UHD Infi...</td>\n",
       "      <td>$1,399.66</td>\n",
       "      <td>data:image/webp;base64,UklGRrxYAABXRUJQVlA4ILB...</td>\n",
       "      <td>https://www.amazon.com/gp/slredirect/picassoRe...</td>\n",
       "    </tr>\n",
       "    <tr>\n",
       "      <th>2</th>\n",
       "      <td>2</td>\n",
       "      <td>2020 Dell Inspiron 3000 15.6-inch HD Touchscre...</td>\n",
       "      <td>$598.00</td>\n",
       "      <td>data:image/webp;base64,UklGRpATAABXRUJQVlA4IIQ...</td>\n",
       "      <td>https://www.amazon.com/Dell-3000-15-6-inch-Tou...</td>\n",
       "    </tr>\n",
       "    <tr>\n",
       "      <th>3</th>\n",
       "      <td>3</td>\n",
       "      <td>New ! Dell Inspiron i3583 15.6\" HD Touch-Scree...</td>\n",
       "      <td>$574.99</td>\n",
       "      <td>data:image/webp;base64,UklGRjQYAABXRUJQVlA4ICg...</td>\n",
       "      <td>https://www.amazon.com/dp/B08173ZTJX/ref=sr_1_...</td>\n",
       "    </tr>\n",
       "    <tr>\n",
       "      <th>4</th>\n",
       "      <td>4</td>\n",
       "      <td>New ! Dell Inspiron i3583 15.6\" HD Touch-Scree...</td>\n",
       "      <td>$685.00</td>\n",
       "      <td>https://images-na.ssl-images-amazon.com/images...</td>\n",
       "      <td>https://www.amazon.com/Dell-Inspiron-i3583-Tou...</td>\n",
       "    </tr>\n",
       "    <tr>\n",
       "      <th>...</th>\n",
       "      <td>...</td>\n",
       "      <td>...</td>\n",
       "      <td>...</td>\n",
       "      <td>...</td>\n",
       "      <td>...</td>\n",
       "    </tr>\n",
       "    <tr>\n",
       "      <th>316</th>\n",
       "      <td>316</td>\n",
       "      <td>Dell Inspiron 17 3793 2020 Premium 17.3” FHD L...</td>\n",
       "      <td>$905.00</td>\n",
       "      <td>https://images-na.ssl-images-amazon.com/images...</td>\n",
       "      <td>https://www.amazon.com/dp/B082MSPDL8/ref=sr_1_...</td>\n",
       "    </tr>\n",
       "    <tr>\n",
       "      <th>317</th>\n",
       "      <td>317</td>\n",
       "      <td>Latest_Dell Inspiron 2-in-1 5000 14.0\" HD LED-...</td>\n",
       "      <td>$620.00</td>\n",
       "      <td>https://images-na.ssl-images-amazon.com/images...</td>\n",
       "      <td>https://www.amazon.com/Latest_Dell-LED-Backlit...</td>\n",
       "    </tr>\n",
       "    <tr>\n",
       "      <th>318</th>\n",
       "      <td>318</td>\n",
       "      <td>Dell Inspiron 5000 15.6 Inch FHD 1080P Touchsc...</td>\n",
       "      <td>$962.00</td>\n",
       "      <td>https://images-na.ssl-images-amazon.com/images...</td>\n",
       "      <td>https://www.amazon.com/Dell-Inspiron-Touchscre...</td>\n",
       "    </tr>\n",
       "    <tr>\n",
       "      <th>319</th>\n",
       "      <td>319</td>\n",
       "      <td>2019 New Dell Inspiron 17 PC Laptop: 17.3 Inch...</td>\n",
       "      <td>$629.00</td>\n",
       "      <td>https://images-na.ssl-images-amazon.com/images...</td>\n",
       "      <td>https://www.amazon.com/2019-Dell-Inspiron-17-L...</td>\n",
       "    </tr>\n",
       "    <tr>\n",
       "      <th>320</th>\n",
       "      <td>320</td>\n",
       "      <td>Dell Inspiron 14 14“ HD Anti-Glare LED-Backlit...</td>\n",
       "      <td>$429.00</td>\n",
       "      <td>https://images-na.ssl-images-amazon.com/images...</td>\n",
       "      <td>https://www.amazon.com/Dell-Inspiron-14-Anti-G...</td>\n",
       "    </tr>\n",
       "  </tbody>\n",
       "</table>\n",
       "<p>321 rows × 5 columns</p>\n",
       "</div>"
      ],
      "text/plain": [
       "     Unnamed: 0                                               name      price  \\\n",
       "0             0  Dell 2019 Inspiron 13 7000 2-in-1 13.3in Fhd T...    $599.11   \n",
       "1             1  Dell XPS 13 7390 Laptop 13.3 inch, 4K UHD Infi...  $1,399.66   \n",
       "2             2  2020 Dell Inspiron 3000 15.6-inch HD Touchscre...    $598.00   \n",
       "3             3  New ! Dell Inspiron i3583 15.6\" HD Touch-Scree...    $574.99   \n",
       "4             4  New ! Dell Inspiron i3583 15.6\" HD Touch-Scree...    $685.00   \n",
       "..          ...                                                ...        ...   \n",
       "316         316  Dell Inspiron 17 3793 2020 Premium 17.3” FHD L...    $905.00   \n",
       "317         317  Latest_Dell Inspiron 2-in-1 5000 14.0\" HD LED-...    $620.00   \n",
       "318         318  Dell Inspiron 5000 15.6 Inch FHD 1080P Touchsc...    $962.00   \n",
       "319         319  2019 New Dell Inspiron 17 PC Laptop: 17.3 Inch...    $629.00   \n",
       "320         320  Dell Inspiron 14 14“ HD Anti-Glare LED-Backlit...    $429.00   \n",
       "\n",
       "                                                   img  \\\n",
       "0    data:image/webp;base64,UklGRrQuAABXRUJQVlA4IKg...   \n",
       "1    data:image/webp;base64,UklGRrxYAABXRUJQVlA4ILB...   \n",
       "2    data:image/webp;base64,UklGRpATAABXRUJQVlA4IIQ...   \n",
       "3    data:image/webp;base64,UklGRjQYAABXRUJQVlA4ICg...   \n",
       "4    https://images-na.ssl-images-amazon.com/images...   \n",
       "..                                                 ...   \n",
       "316  https://images-na.ssl-images-amazon.com/images...   \n",
       "317  https://images-na.ssl-images-amazon.com/images...   \n",
       "318  https://images-na.ssl-images-amazon.com/images...   \n",
       "319  https://images-na.ssl-images-amazon.com/images...   \n",
       "320  https://images-na.ssl-images-amazon.com/images...   \n",
       "\n",
       "                                                  link  \n",
       "0    https://www.amazon.com/gp/slredirect/picassoRe...  \n",
       "1    https://www.amazon.com/gp/slredirect/picassoRe...  \n",
       "2    https://www.amazon.com/Dell-3000-15-6-inch-Tou...  \n",
       "3    https://www.amazon.com/dp/B08173ZTJX/ref=sr_1_...  \n",
       "4    https://www.amazon.com/Dell-Inspiron-i3583-Tou...  \n",
       "..                                                 ...  \n",
       "316  https://www.amazon.com/dp/B082MSPDL8/ref=sr_1_...  \n",
       "317  https://www.amazon.com/Latest_Dell-LED-Backlit...  \n",
       "318  https://www.amazon.com/Dell-Inspiron-Touchscre...  \n",
       "319  https://www.amazon.com/2019-Dell-Inspiron-17-L...  \n",
       "320  https://www.amazon.com/Dell-Inspiron-14-Anti-G...  \n",
       "\n",
       "[321 rows x 5 columns]"
      ]
     },
     "execution_count": 3,
     "metadata": {},
     "output_type": "execute_result"
    }
   ],
   "source": [
    "df"
   ]
  },
  {
   "cell_type": "code",
   "execution_count": 5,
   "metadata": {},
   "outputs": [],
   "source": [
    "df.to_json('amazon_dell_laptops.json')"
   ]
  },
  {
   "cell_type": "code",
   "execution_count": null,
   "metadata": {},
   "outputs": [],
   "source": []
  }
 ],
 "metadata": {
  "kernelspec": {
   "display_name": "Python 3",
   "language": "python",
   "name": "python3"
  },
  "language_info": {
   "codemirror_mode": {
    "name": "ipython",
    "version": 3
   },
   "file_extension": ".py",
   "mimetype": "text/x-python",
   "name": "python",
   "nbconvert_exporter": "python",
   "pygments_lexer": "ipython3",
   "version": "3.8.3"
  }
 },
 "nbformat": 4,
 "nbformat_minor": 4
}
